{
 "cells": [
  {
   "cell_type": "markdown",
   "metadata": {},
   "source": [
    "<img src=\"https://camo.githubusercontent.com/3fccdac76f04fa6a68a8e260007e2beb3d82fce6/68747470733a2f2f6c6561726e6f6e6c696e652e676d69742e69652f706c7567696e66696c652e7068702f312f7468656d655f616461707461626c652f6c6f676f2f313533383635353934382f5472616e73706172656e742532306e65772e706e67\" align=\"left\" data-canonical-src=\"https://learnonline.gmit.ie/pluginfile.php/1/theme_adaptable/logo/1538655948/Transparent%20new.png\">\n"
   ]
  },
  {
   "cell_type": "markdown",
   "metadata": {},
   "source": [
    "<h1>Higher Diploma in Science in Computing (Data Analytics) - Programming and Scripting</h1>\n",
    "<h2>Iris Data Set Project 2019</h2>\n",
    "<h3>Cóbhan Phillipson - G00174503</h3>\n",
    "<hr>"
   ]
  },
  {
   "cell_type": "markdown",
   "metadata": {},
   "source": [
    "<h3>Introduction</h3>\n",
    "<p>This project is conducted as part of the Programming and Scripting module. This module is part of the Higher Diploma in Science in Computing (Data Analytics) in GMIT. The project is based on the Iris Data Set and we are instructed by the following guidelines:</p>\n",
    "<ol><li>Research background information about the data set and write a summary about it.</li>\n",
    "<li>Keep a list of references you used in completing the project.</li>\n",
    "<li>Download the data set and write some Python code to investigate it.</li>\n",
    "<li>Summarise the data set by, for example, calculating the maximum, minimum and mean of each column of the data set. A Python script will quickly do this for you.</li>\n",
    "<li>Write a summary of your investigations.</li>\n",
    "<li>Include supporting tables and graphics as you deem necessary.</li></ol>"
   ]
  },
  {
   "cell_type": "markdown",
   "metadata": {},
   "source": [
    "<h3>About the Iris Flower Data Set</h3>\n",
    "<p>The Iris flower data set is a well-known data set that is regularly used for data mining and exploration. It was created by the British statistician and biologist Ronald Fisher and first introduced in his 1936 paper <i>The use of multiple measurements in taxonomic problems</i>.</p>\n",
    "<p>The data set contains 50 records each of three clsses of Iris flowers: Iris Setosa, Iris Versicolor, and Iris Virginica. Four features of each flower are included in the data set: petal length, petal width, sepal length, and sepal width.</p>"
   ]
  },
  {
   "cell_type": "code",
   "execution_count": null,
   "metadata": {
    "collapsed": true
   },
   "outputs": [],
   "source": []
  }
 ],
 "metadata": {
  "kernelspec": {
   "display_name": "Python 3",
   "language": "python",
   "name": "python3"
  },
  "language_info": {
   "codemirror_mode": {
    "name": "ipython",
    "version": 3
   },
   "file_extension": ".py",
   "mimetype": "text/x-python",
   "name": "python",
   "nbconvert_exporter": "python",
   "pygments_lexer": "ipython3",
   "version": "3.6.3"
  }
 },
 "nbformat": 4,
 "nbformat_minor": 2
}
